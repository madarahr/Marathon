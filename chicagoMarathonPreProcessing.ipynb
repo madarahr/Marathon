{
 "cells": [
  {
   "cell_type": "code",
   "execution_count": 1,
   "metadata": {},
   "outputs": [],
   "source": [
    "import pandas as pd\n",
    "from pandas import DataFrame\n",
    "from pandas import Timedelta\n",
    "from datetime import datetime\n",
    "from sklearn import preprocessing\n",
    "from sklearn.preprocessing import LabelEncoder, MinMaxScaler"
   ]
  },
  {
   "cell_type": "code",
   "execution_count": 2,
   "metadata": {},
   "outputs": [],
   "source": [
    "chicagoDF: DataFrame = pd.read_csv('./data/chicago_marathon_2018.csv')"
   ]
  },
  {
   "cell_type": "code",
   "execution_count": 3,
   "metadata": {},
   "outputs": [],
   "source": [
    "# Create a new column called country and extract the country from the end of the names of marathoners using regex\n",
    "chicagoDF['country'] = chicagoDF['name'].str.extract('\\((.{3})\\)')"
   ]
  },
  {
   "cell_type": "code",
   "execution_count": 4,
   "metadata": {},
   "outputs": [
    {
     "data": {
      "text/plain": [
       "USA    13874\n",
       "MEX     1229\n",
       "GBR      914\n",
       "CHN      815\n",
       "CAN      730\n",
       "       ...  \n",
       "BAH        1\n",
       "MAW        1\n",
       "SEN        1\n",
       "ZIM        1\n",
       "TUN        1\n",
       "Name: country, Length: 111, dtype: int64"
      ]
     },
     "execution_count": 4,
     "metadata": {},
     "output_type": "execute_result"
    }
   ],
   "source": [
    "chicagoDF['country'].value_counts()"
   ]
  },
  {
   "cell_type": "code",
   "execution_count": 5,
   "metadata": {},
   "outputs": [],
   "source": [
    "def binCountries(countryBinName: str) -> str:\n",
    "    if countryBinName in ['USA', 'MEX', 'GBR', 'CHN', 'CAN']:\n",
    "        return countryBinName\n",
    "    else:\n",
    "        return 'Other'"
   ]
  },
  {
   "cell_type": "code",
   "execution_count": 6,
   "metadata": {},
   "outputs": [],
   "source": [
    "chicagoDF['country'] = chicagoDF['country'].apply(binCountries)"
   ]
  },
  {
   "cell_type": "code",
   "execution_count": 7,
   "metadata": {},
   "outputs": [],
   "source": [
    "chicagoDF['half'] = chicagoDF['half'].apply(pd.to_timedelta)"
   ]
  },
  {
   "cell_type": "code",
   "execution_count": 8,
   "metadata": {},
   "outputs": [
    {
     "data": {
      "text/plain": [
       "0        <class 'pandas._libs.tslibs.timedeltas.Timedel...\n",
       "1        <class 'pandas._libs.tslibs.timedeltas.Timedel...\n",
       "2        <class 'pandas._libs.tslibs.timedeltas.Timedel...\n",
       "3        <class 'pandas._libs.tslibs.timedeltas.Timedel...\n",
       "4        <class 'pandas._libs.tslibs.timedeltas.Timedel...\n",
       "                               ...                        \n",
       "23906        <class 'pandas._libs.tslibs.nattype.NaTType'>\n",
       "23907    <class 'pandas._libs.tslibs.timedeltas.Timedel...\n",
       "23908    <class 'pandas._libs.tslibs.timedeltas.Timedel...\n",
       "23909    <class 'pandas._libs.tslibs.timedeltas.Timedel...\n",
       "23910        <class 'pandas._libs.tslibs.nattype.NaTType'>\n",
       "Name: half, Length: 23911, dtype: object"
      ]
     },
     "execution_count": 8,
     "metadata": {},
     "output_type": "execute_result"
    }
   ],
   "source": [
    "chicagoDF['half'].apply(type)"
   ]
  },
  {
   "cell_type": "code",
   "execution_count": 10,
   "metadata": {},
   "outputs": [],
   "source": [
    "def toSeconds(someTime: Timedelta) -> float:\n",
    "    return someTime.total_seconds()"
   ]
  },
  {
   "cell_type": "code",
   "execution_count": 11,
   "metadata": {
    "scrolled": true
   },
   "outputs": [],
   "source": [
    "chicagoDF['half'] = chicagoDF['half'].apply(toSeconds)"
   ]
  },
  {
   "cell_type": "code",
   "execution_count": 12,
   "metadata": {},
   "outputs": [],
   "source": [
    "chicagoDF['finish'] = chicagoDF['finish'].apply(pd.to_timedelta)\n",
    "chicagoDF['finish'] = chicagoDF['finish'].apply(toSeconds)"
   ]
  },
  {
   "cell_type": "code",
   "execution_count": 13,
   "metadata": {},
   "outputs": [
    {
     "data": {
      "text/plain": [
       "35-39    4037\n",
       "40-44    3845\n",
       "45-49    3527\n",
       "30-34    3501\n",
       "50-54    2568\n",
       "25-29    2566\n",
       "55-59    1621\n",
       "60-64     831\n",
       "20-24     817\n",
       "65-69     346\n",
       "16-19     110\n",
       "70-74     104\n",
       "75-79      27\n",
       "on80+      11\n",
       "Name: division, dtype: int64"
      ]
     },
     "execution_count": 13,
     "metadata": {},
     "output_type": "execute_result"
    }
   ],
   "source": [
    "chicagoDF['division'].value_counts()"
   ]
  },
  {
   "cell_type": "code",
   "execution_count": 14,
   "metadata": {},
   "outputs": [],
   "source": [
    "population: DataFrame = chicagoDF[['half', 'finish', 'division', 'country']].copy()"
   ]
  },
  {
   "cell_type": "code",
   "execution_count": 15,
   "metadata": {},
   "outputs": [],
   "source": [
    "population['division'] = LabelEncoder().fit_transform(population['division'])"
   ]
  },
  {
   "cell_type": "code",
   "execution_count": 16,
   "metadata": {},
   "outputs": [],
   "source": [
    "population['country'] = LabelEncoder().fit_transform(population['country'])"
   ]
  },
  {
   "cell_type": "code",
   "execution_count": 17,
   "metadata": {},
   "outputs": [],
   "source": [
    "scaledPopulation = MinMaxScaler().fit_transform(population)"
   ]
  },
  {
   "cell_type": "code",
   "execution_count": 18,
   "metadata": {},
   "outputs": [
    {
     "name": "stdout",
     "output_type": "stream",
     "text": [
      "[[2.19170076e-04 0.00000000e+00 3.07692308e-01 4.00000000e-01]\n",
      " [7.30566920e-05 5.13549814e-04 1.53846154e-01 8.00000000e-01]\n",
      " [7.30566920e-05 1.54064944e-03 1.53846154e-01 8.00000000e-01]\n",
      " ...\n",
      " [6.60432496e-01 9.40625741e-01 6.92307692e-01 1.00000000e+00]\n",
      " [6.79208065e-01 9.90953623e-01 5.38461538e-01 1.00000000e+00]\n",
      " [           nan 1.00000000e+00 6.15384615e-01 1.00000000e+00]]\n"
     ]
    }
   ],
   "source": [
    "print(scaledPopulation)"
   ]
  },
  {
   "cell_type": "code",
   "execution_count": null,
   "metadata": {},
   "outputs": [],
   "source": []
  }
 ],
 "metadata": {
  "kernelspec": {
   "display_name": "PythonData",
   "language": "python",
   "name": "pythondata"
  },
  "language_info": {
   "codemirror_mode": {
    "name": "ipython",
    "version": 3
   },
   "file_extension": ".py",
   "mimetype": "text/x-python",
   "name": "python",
   "nbconvert_exporter": "python",
   "pygments_lexer": "ipython3",
   "version": "3.7.7"
  }
 },
 "nbformat": 4,
 "nbformat_minor": 4
}
